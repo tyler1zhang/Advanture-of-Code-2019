{
 "cells": [
  {
   "cell_type": "markdown",
   "metadata": {},
   "source": [
    "# 2019 Advanture of Code\n",
    "\n",
    "## Q1"
   ]
  },
  {
   "cell_type": "code",
   "execution_count": 10,
   "metadata": {},
   "outputs": [],
   "source": [
    "f = open(\"2019_Q1_input.txt\")\n",
    "lst = f.readlines()\n",
    "f.close()"
   ]
  },
  {
   "cell_type": "code",
   "execution_count": 16,
   "metadata": {},
   "outputs": [
    {
     "name": "stdout",
     "output_type": "stream",
     "text": [
      "3232358\n"
     ]
    }
   ],
   "source": [
    "# Part 1\n",
    "new_lst = []\n",
    "for l in lst:\n",
    "    a = int(l)//3 -2\n",
    "    new_lst.append(a)\n",
    "    \n",
    "print(sum(new_lst))"
   ]
  },
  {
   "cell_type": "code",
   "execution_count": 18,
   "metadata": {},
   "outputs": [
    {
     "name": "stdout",
     "output_type": "stream",
     "text": [
      "4845669\n"
     ]
    }
   ],
   "source": [
    "# Part 2\n",
    "p2_lst = []\n",
    "for l in lst:\n",
    "    a = int(l)//3 -2\n",
    "    b = a\n",
    "    while a >8:\n",
    "        a = a//3 -2\n",
    "        b += a\n",
    "    p2_lst.append(b)\n",
    "    \n",
    "print(sum(p2_lst))"
   ]
  },
  {
   "cell_type": "markdown",
   "metadata": {},
   "source": [
    "## Q2"
   ]
  },
  {
   "cell_type": "code",
   "execution_count": 31,
   "metadata": {},
   "outputs": [],
   "source": [
    "f = open('2019_Q2_input.txt', 'r')\n",
    "str1 = f.readlines()[0]\n",
    "f.close()"
   ]
  },
  {
   "cell_type": "code",
   "execution_count": 55,
   "metadata": {},
   "outputs": [],
   "source": [
    "# Part 1\n",
    "ls = str1.split(',')\n",
    "lst = []\n",
    "for i in ls:\n",
    "    lst.append(int(i))"
   ]
  },
  {
   "cell_type": "code",
   "execution_count": 56,
   "metadata": {},
   "outputs": [],
   "source": [
    "lst[1] = 12\n",
    "lst[2] = 2"
   ]
  },
  {
   "cell_type": "code",
   "execution_count": 57,
   "metadata": {},
   "outputs": [],
   "source": [
    "opcode = 0\n",
    "i = 1\n",
    "while 1:\n",
    "    if lst[opcode] == 1:\n",
    "        lst[lst[i + 2]] = lst[lst[i]] + lst[lst[i + 1]]\n",
    "    elif lst[opcode] == 2:\n",
    "        lst[lst[i + 2]] = lst[lst[i]] * lst[lst[i + 1]]\n",
    "    elif lst[opcode] == 99:\n",
    "        break\n",
    "    else:\n",
    "        print('error!')\n",
    "    opcode += 4\n",
    "    i += 4"
   ]
  },
  {
   "cell_type": "code",
   "execution_count": 58,
   "metadata": {},
   "outputs": [
    {
     "name": "stdout",
     "output_type": "stream",
     "text": [
      "opcode is 104, i is 105\n"
     ]
    }
   ],
   "source": [
    "print(f'opcode is {opcode}, i is {i}')"
   ]
  },
  {
   "cell_type": "code",
   "execution_count": 60,
   "metadata": {},
   "outputs": [
    {
     "name": "stdout",
     "output_type": "stream",
     "text": [
      "3085697\n"
     ]
    }
   ],
   "source": [
    "print(lst[0])"
   ]
  },
  {
   "cell_type": "code",
   "execution_count": 66,
   "metadata": {},
   "outputs": [],
   "source": [
    "# Part 2\n",
    "ls = str1.split(',')\n",
    "raw_lst = []\n",
    "for i in ls:\n",
    "    raw_lst.append(int(i))"
   ]
  },
  {
   "cell_type": "code",
   "execution_count": 67,
   "metadata": {},
   "outputs": [],
   "source": [
    "def intcode(lst):\n",
    "    opcode = 0\n",
    "    i = 1\n",
    "    while 1:\n",
    "        if lst[opcode] == 1:\n",
    "            lst[lst[i + 2]] = lst[lst[i]] + lst[lst[i + 1]]\n",
    "        elif lst[opcode] == 2:\n",
    "            lst[lst[i + 2]] = lst[lst[i]] * lst[lst[i + 1]]\n",
    "        elif lst[opcode] == 99:\n",
    "            break\n",
    "        else:\n",
    "            print('error!')\n",
    "        opcode += 4\n",
    "        i += 4\n",
    "    return lst[0]"
   ]
  },
  {
   "cell_type": "code",
   "execution_count": 69,
   "metadata": {},
   "outputs": [
    {
     "name": "stdout",
     "output_type": "stream",
     "text": [
      "noun is 94, verb is 25, result is 9425\n"
     ]
    }
   ],
   "source": [
    "for noun in range(100):\n",
    "    for verb in range(100):\n",
    "        test_lst = raw_lst[:]\n",
    "        test_lst[1] = noun\n",
    "        test_lst[2] = verb\n",
    "        if intcode(test_lst) == 19690720:\n",
    "            x = 100 * noun + verb\n",
    "            print(f'noun is {noun}, verb is {verb}, result is {x}')\n",
    "            break"
   ]
  },
  {
   "cell_type": "code",
   "execution_count": null,
   "metadata": {},
   "outputs": [],
   "source": []
  }
 ],
 "metadata": {
  "kernelspec": {
   "display_name": "Python 3",
   "language": "python",
   "name": "python3"
  },
  "language_info": {
   "codemirror_mode": {
    "name": "ipython",
    "version": 3
   },
   "file_extension": ".py",
   "mimetype": "text/x-python",
   "name": "python",
   "nbconvert_exporter": "python",
   "pygments_lexer": "ipython3",
   "version": "3.6.9"
  }
 },
 "nbformat": 4,
 "nbformat_minor": 2
}
